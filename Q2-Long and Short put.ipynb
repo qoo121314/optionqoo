{
 "cells": [
  {
   "cell_type": "code",
   "execution_count": 25,
   "metadata": {
    "collapsed": false
   },
   "outputs": [],
   "source": [
    "import numpy as np\n",
    "import matplotlib.pyplot as plt\n",
    "K= 9100\n",
    "Premium_91put=18.5\n",
    "\n",
    "interval=500\n",
    "standard=np.arange(K-interval,K+interval)\n",
    "\n",
    "Payoff_shortput= np.minimum(standard-K,0)+Premium_91put\n",
    "Payoff_longput= -Payoff_shortput\n",
    "Sum= Payoff_longput + Payoff_shortput\n",
    "\n",
    "plt.plot(standard,Payoff_shortput)\n",
    "plt.plot(standard,Payoff_longput)\n",
    "plt.plot(standard,Sum)\n",
    "plt.show()"
   ]
  },
  {
   "cell_type": "code",
   "execution_count": null,
   "metadata": {
    "collapsed": true
   },
   "outputs": [],
   "source": []
  },
  {
   "cell_type": "code",
   "execution_count": null,
   "metadata": {
    "collapsed": true
   },
   "outputs": [],
   "source": []
  }
 ],
 "metadata": {
  "kernelspec": {
   "display_name": "Python [Root]",
   "language": "python",
   "name": "Python [Root]"
  },
  "language_info": {
   "codemirror_mode": {
    "name": "ipython",
    "version": 3
   },
   "file_extension": ".py",
   "mimetype": "text/x-python",
   "name": "python",
   "nbconvert_exporter": "python",
   "pygments_lexer": "ipython3",
   "version": "3.5.2"
  }
 },
 "nbformat": 4,
 "nbformat_minor": 0
}
