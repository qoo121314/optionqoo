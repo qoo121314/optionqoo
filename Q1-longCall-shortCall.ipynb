{
 "cells": [
  {
   "cell_type": "code",
   "execution_count": 18,
   "metadata": {
    "collapsed": false
   },
   "outputs": [],
   "source": [
    "import numpy as np\n",
    "import matplotlib.pyplot as plt\n",
    "K= 9100\n",
    "Premium_91Call=195\n",
    "\n",
    "interval=500\n",
    "standard=np.arange(K-interval,K+interval)\n",
    "\n",
    "Payoff_longCall= np.maximum(standard-K,0)-Premium_91Call\n",
    "Payoff_shortCall= -Payoff_longCall\n",
    "Sum= Payoff_longCall+Payoff_shortCall\n",
    "\n",
    "plt.plot(standard,Payoff_longCall)\n",
    "plt.plot(standard,Payoff_shortCall)\n",
    "plt.plot(standard,Sum)\n",
    "plt.show()"
   ]
  },
  {
   "cell_type": "code",
   "execution_count": null,
   "metadata": {
    "collapsed": true
   },
   "outputs": [],
   "source": []
  }
 ],
 "metadata": {
  "anaconda-cloud": {},
  "kernelspec": {
   "display_name": "Python [Root]",
   "language": "python",
   "name": "Python [Root]"
  },
  "language_info": {
   "codemirror_mode": {
    "name": "ipython",
    "version": 3
   },
   "file_extension": ".py",
   "mimetype": "text/x-python",
   "name": "python",
   "nbconvert_exporter": "python",
   "pygments_lexer": "ipython3",
   "version": "3.5.2"
  }
 },
 "nbformat": 4,
 "nbformat_minor": 0
}
